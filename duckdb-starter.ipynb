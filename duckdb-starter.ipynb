{
 "cells": [
  {
   "cell_type": "markdown",
   "metadata": {},
   "source": [
    "# Analysis with DuckDB SQL Queries"
   ]
  },
  {
   "cell_type": "markdown",
   "metadata": {},
   "source": [
    "The following configuration allows to write queries in notebook-cells directly."
   ]
  },
  {
   "cell_type": "code",
   "execution_count": null,
   "metadata": {},
   "outputs": [],
   "source": [
    "import duckdb\n",
    "import pandas as pd\n",
    "import sqlalchemy\n",
    "\n",
    "%load_ext sql\n",
    "\n",
    "# Set a few config options to prettify the output and return it as Pandas DataFrame\n",
    "%config SqlMagic.autopandas = True\n",
    "%config SqlMagic.feedback = False\n",
    "%config SqlMagic.displaycon = False\n",
    "\n",
    "%sql duckdb:///:memory:\n",
    "# DuckDB is primarily designed to be an in-memory DB. You can however persist your data to disk.\n",
    "# %sql duckdb:///path/to/file.db"
   ]
  },
  {
   "cell_type": "markdown",
   "metadata": {},
   "source": [
    "## Simple SQL queries"
   ]
  },
  {
   "cell_type": "code",
   "execution_count": null,
   "metadata": {
    "vscode": {
     "languageId": "sql"
    }
   },
   "outputs": [],
   "source": [
    "%%sql\n",
    "\n",
    "SELECT * FROM \"./parquet_data/all_data.parquet/*.parquet\" LIMIT 5;"
   ]
  },
  {
   "cell_type": "markdown",
   "metadata": {},
   "source": [
    "Partitioned parquet data cannot be read in with DuckDB directly at the moment.\n",
    "\n",
    "However, we can first read it in as arrow dataset and then query the arrow-table with DuckDB\n",
    "\n",
    "```python\n",
    "import pyarrow.dataset as ds\n",
    "dataset = ds.dataset(\"./parquet_data/all_data.parquet/\", format=\"parquet\", partitioning=\"hive\")\n",
    "\n",
    "%%sql\n",
    "SELECT * FROM dataset LIMIT 3;\n",
    "```"
   ]
  },
  {
   "cell_type": "markdown",
   "metadata": {
    "vscode": {
     "languageId": "sql"
    }
   },
   "source": [
    "## Return pandas dataframes for further processing\n",
    "\n",
    "DuckDB query results can easily be converted to pandas dataframes which can then be further processed by pandas, for example for plots.\n",
    "\n",
    "Interesting is that you can also query the pandas dataframe again with DuckDB SQL without any copying."
   ]
  },
  {
   "cell_type": "code",
   "execution_count": null,
   "metadata": {
    "vscode": {
     "languageId": "sql"
    }
   },
   "outputs": [],
   "source": [
    "import duckdb\n",
    "\n",
    "top_producer = duckdb.query(\n",
    "    \"\"\"\n",
    "    SELECT filter, SUM(production)/1e6 AS total_energy\n",
    "    FROM './parquet_data/all_data.parquet/*.parquet'\n",
    "    WHERE filter > 1000 AND filter < 4300\n",
    "    GROUP BY filter\n",
    "    ORDER BY total_energy DESC\n",
    "    --LIMIT 5;\n",
    "    \"\"\"\n",
    ").to_df()"
   ]
  },
  {
   "cell_type": "code",
   "execution_count": null,
   "metadata": {
    "vscode": {
     "languageId": "sql"
    }
   },
   "outputs": [],
   "source": [
    "from config import FILTERS\n",
    "\n",
    "top_producer[\"filter\"] = top_producer[\"filter\"].apply(lambda x: FILTERS[x])\n",
    "\n",
    "top_producer"
   ]
  },
  {
   "cell_type": "code",
   "execution_count": null,
   "metadata": {
    "vscode": {
     "languageId": "sql"
    }
   },
   "outputs": [],
   "source": [
    "type(top_producer)"
   ]
  },
  {
   "cell_type": "code",
   "execution_count": null,
   "metadata": {
    "vscode": {
     "languageId": "sql"
    }
   },
   "outputs": [],
   "source": [
    "%%sql\n",
    "\n",
    "SELECT * FROM top_producer LIMIT 2;"
   ]
  },
  {
   "cell_type": "code",
   "execution_count": null,
   "metadata": {
    "vscode": {
     "languageId": "sql"
    }
   },
   "outputs": [],
   "source": [
    "top_producer.set_index(\"filter\").plot.barh();"
   ]
  },
  {
   "cell_type": "code",
   "execution_count": null,
   "metadata": {
    "vscode": {
     "languageId": "sql"
    }
   },
   "outputs": [],
   "source": []
  }
 ],
 "metadata": {
  "kernelspec": {
   "display_name": "Python 3.8.13 ('duckdb-demo')",
   "language": "python",
   "name": "python3"
  },
  "language_info": {
   "codemirror_mode": {
    "name": "ipython",
    "version": 3
   },
   "file_extension": ".py",
   "mimetype": "text/x-python",
   "name": "python",
   "nbconvert_exporter": "python",
   "pygments_lexer": "ipython3",
   "version": "3.8.13"
  },
  "orig_nbformat": 4,
  "vscode": {
   "interpreter": {
    "hash": "6ff7f209762aea35521cee09ef9ab8ee4413efb4c7ef70c5f7ad3de4959f31e4"
   }
  }
 },
 "nbformat": 4,
 "nbformat_minor": 2
}
